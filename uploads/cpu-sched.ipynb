{
 "cells": [
  {
   "cell_type": "code",
   "execution_count": 2,
   "id": "b49519bd",
   "metadata": {},
   "outputs": [],
   "source": [
    "class classProcess:\n",
    "    def __init__(self):\n",
    "        self.id = 0\n",
    "        self.arT = -1\n",
    "        self.brT = 0\n",
    "    def __rep__(self):\n",
    "        return (self.id, self.arT, self.brT)"
   ]
  },
  {
   "cell_type": "code",
   "execution_count": null,
   "id": "47110d44-fe2e-4737-9cf9-b3bb50ff5f21",
   "metadata": {},
   "outputs": [],
   "source": [
    "processInput = classProcess()\n",
    "processArr = []\n",
    "\n",
    "n = int(input('No. of processes(4-8): '))\n",
    "\n",
    "for i in range(n):\n",
    "    processArr.append(classProcess())\n",
    "    processArr[i].id = i+1\n",
    "    print(f'Process {processArr[i].id}')\n",
    "    processArr[i].arT = input('Arrival Time: ')\n",
    "    processArr[i].brT = input('Burst Time: ')\n",
    "    \n",
    "processArr.sort(key=lambda process: process.arT)\n",
    "    \n",
    "for i in range(n):\n",
    "    print(f'id: {processArr[i].id}')\n",
    "    print(f'Arrival Time:{processArr[i].arT}')\n",
    "    print(f'Burst Time: {processArr[i].brT}')"
   ]
  },
  {
   "cell_type": "code",
   "execution_count": null,
   "id": "fd009179-eb11-4a80-86d9-7af6379d2f32",
   "metadata": {},
   "outputs": [],
   "source": []
  }
 ],
 "metadata": {
  "kernelspec": {
   "display_name": "Python 3 (ipykernel)",
   "language": "python",
   "name": "python3"
  },
  "language_info": {
   "codemirror_mode": {
    "name": "ipython",
    "version": 3
   },
   "file_extension": ".py",
   "mimetype": "text/x-python",
   "name": "python",
   "nbconvert_exporter": "python",
   "pygments_lexer": "ipython3",
   "version": "3.11.7"
  }
 },
 "nbformat": 4,
 "nbformat_minor": 5
}
